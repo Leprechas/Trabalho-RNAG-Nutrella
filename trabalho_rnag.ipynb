{
 "cells": [
  {
   "cell_type": "code",
   "execution_count": 1,
   "id": "c03b2a63-4b47-4141-b10d-62e81c7bc969",
   "metadata": {},
   "outputs": [],
   "source": [
    "import pandas as pd\n",
    "import numpy as np\n",
    "import matplotlib.pyplot as plt"
   ]
  },
  {
   "cell_type": "markdown",
   "id": "bfe93dbb-0c41-46a4-b42e-fe8bdbf33af1",
   "metadata": {},
   "source": [
    "#### Como determinaremos a quantidade de calorias ideais?\n",
    "\n",
    "A equação de Harris-Benedict é uma fórmula que utiliza a altura, peso, idade e sexo de determinado indivíduo para calcular a sua taxa metabólica basal(TMB)\n",
    "\n",
    "**1º Passo:**\n",
    "Determinar a taxa metabólica basal (TMB)\n",
    "\n",
    "Homens: TMB = 66 + (13.7 x peso em quilogramas) + (5 x altura em centímetros) – (6.8 x idade em anos)\n",
    "\n",
    "Mulheres: TMB = 655 + (9.6 X peso em quilogramas) + (1.8 X altura em centímetros) – (4.7 x idade em anos).\n",
    "\n",
    "**2º Passo:**\n",
    "Multiplicar o valor da TMB pelo fator de atividade física adequado\n",
    "\n",
    "- Sedentário – pouco ou nenhum exercício (TMB x 1.2)\n",
    "\n",
    "- Pouco ativo – exercício/esporte leve 1-3 dias/semana (TMB x 1.375)\n",
    "\n",
    "- Moderadamente ativo – exercício/esporte moderado 3-5 dias/semana (TMB x 1.55)\n",
    "\n",
    "- Muito ativo – exercício/esporte pesado 6-7 dias/semana (TMB x 1.725)\n",
    "\n",
    "- Extremamente ativo – exercício/esporte muito pesado e trabalho físico intenso diariamente ou treino de 2x ao dia (TMB x 1.9)\n",
    "\n",
    "Este cálculo vai te dar um valor estimado das necessidades energéticas diárias do seu paciente. Contudo, não se esqueça que se trata apenas de uma estimativa e que deve ser usada como um guia e não como uma regra.\n",
    "\n",
    "Deverá trabalhar com cada paciente para garantir que suas necessidades nutricionais e objetivos de saúde sejam atendidos, mas pode ser necessário aumentar ou diminuir esse valor dependendo de como eles se sentem."
   ]
  },
  {
   "cell_type": "markdown",
   "id": "94caa5df",
   "metadata": {},
   "source": []
  }
 ],
 "metadata": {
  "kernelspec": {
   "display_name": "ilumpy",
   "language": "python",
   "name": "ilumpy"
  },
  "language_info": {
   "codemirror_mode": {
    "name": "ipython",
    "version": 3
   },
   "file_extension": ".py",
   "mimetype": "text/x-python",
   "name": "python",
   "nbconvert_exporter": "python",
   "pygments_lexer": "ipython3",
   "version": "3.9.7"
  }
 },
 "nbformat": 4,
 "nbformat_minor": 5
}
