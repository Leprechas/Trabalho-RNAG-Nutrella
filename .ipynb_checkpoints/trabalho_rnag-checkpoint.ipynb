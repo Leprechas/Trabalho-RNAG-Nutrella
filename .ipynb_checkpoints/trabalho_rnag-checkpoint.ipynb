{
 "cells": [
  {
   "cell_type": "markdown",
   "id": "a8d133d4-621d-436c-8e4a-a211edb48c8c",
   "metadata": {},
   "source": [
    "### Trabalho de Algoritmos genéticos - Construção de dietas usando a inteligência artificial\n",
    "\n",
    "Algoritmo base => Mochila"
   ]
  },
  {
   "cell_type": "code",
   "execution_count": 1,
   "id": "c03b2a63-4b47-4141-b10d-62e81c7bc969",
   "metadata": {},
   "outputs": [],
   "source": [
    "#Importações\n",
    "import pandas as pd\n",
    "import numpy as np\n",
    "import matplotlib.pyplot as plt"
   ]
  },
  {
   "cell_type": "markdown",
   "id": "a2c0bdec",
   "metadata": {},
   "source": [
    "#### Obtendo informações do usuário:"
   ]
  },
  {
   "cell_type": "markdown",
   "id": "63cfc647-96f1-4099-bce9-61f0ac469c9e",
   "metadata": {},
   "source": [
    "A primeira parte do código consiste em coletar informações do usuário que fará o uso do nosso programa"
   ]
  },
  {
   "cell_type": "code",
   "execution_count": null,
   "id": "aa8e5637",
   "metadata": {},
   "outputs": [
    {
     "name": "stdout",
     "output_type": "stream",
     "text": [
      "Qual é o seu nome?\n"
     ]
    }
   ],
   "source": [
    "dados = []\n",
    "def informacoes_da_pessoa():\n",
    "\n",
    "    advertencia = [\"Digite uma resposta válida\"]\n",
    "    \n",
    "\n",
    "    print(\"Qual é o seu nome?\")\n",
    "    nome = input()\n",
    "    dados.append(nome)\n",
    "\n",
    "    print(\"Qual a sua idade?\")\n",
    "    idade_str = input()\n",
    "    idade = float(idade_str)\n",
    "    if idade in range(18,120):\n",
    "        dados.append(idade) \n",
    "    else:\n",
    "        print(advertencia)\n",
    "        idade = input()\n",
    "\n",
    "    print(\"Qual o seu peso?\")\n",
    "    peso_str = input()\n",
    "    peso = float(peso_str)\n",
    "    dados.append(peso)\n",
    "\n",
    "    print(\"Qual é o seu sexo?\")\n",
    "    sexo = input()\n",
    "    while sexo.lower() not in [\"feminino\",\"masculino\"]:\n",
    "        print(advertencia)\n",
    "        sexo = input()\n",
    "    dados.append(sexo)\n",
    "\n",
    "    print(\"Qual é a sua altura?\")\n",
    "    altura_str = input()\n",
    "    altura = float(altura_str)\n",
    "    dados.append(altura)\n",
    "\n",
    "    print(\"Qual é o seu nível de atividade física?\\n sedentário: pouco ou nenhum exercício físico\\n pouco ativo:leve 1-3/semana\\n moderadamente ativo: moderado 3-5/semana\\n muito ativo: pesado 7-7 dias/semana\\n extremamente ativo: pesado/intenso ou treino 2xdia\")\n",
    "    atividade = input()\n",
    "    while atividade.lower() not in [\"sedentário\", \"pouco ativo\", \"moderadamente ativo\", \"muito ativo\", \"extremamente ativo\"]:\n",
    "        print(advertencia)\n",
    "        atividade = input()\n",
    "    dados.append(atividade)\n",
    "    \n",
    "    print(\"Qual é o seu objetivo com a dieta? Manter a sua massa, perder ou ganhar massa?\")\n",
    "    objetivo = input()\n",
    "    while objetivo.lower() not in [\"manter a massa\", \"perder massa\", \"ganhar massa\"]:\n",
    "        print(advertencia)\n",
    "        objetivo = input()\n",
    "    dados.append(objetivo)\n",
    "    \n",
    "    return dados\n",
    "\n",
    "print(informacoes_da_pessoa())"
   ]
  },
  {
   "cell_type": "markdown",
   "id": "bfe93dbb-0c41-46a4-b42e-fe8bdbf33af1",
   "metadata": {
    "tags": []
   },
   "source": [
    "#### Como determinaremos a quantidade de calorias ideais?\n",
    "\n",
    "A equação de Harris-Benedict é uma fórmula que utiliza a altura, peso, idade e sexo de determinado indivíduo para calcular a sua taxa metabólica basal(TMB)\n",
    "\n",
    "**1º Passo:**\n",
    "Determinar a taxa metabólica basal (TMB)\n",
    "\n",
    "Homens: TMB = 66 + (13.7 x peso em quilogramas) + (5 x altura em centímetros) – (6.8 x idade em anos)\n",
    "\n",
    "Mulheres: TMB = 65.5 + (9.6 X peso em quilogramas) + (1.8 X altura em centímetros) – (4.7 x idade em anos).\n",
    "\n",
    "**2º Passo:**\n",
    "Multiplicar o valor da TMB pelo fator de atividade física adequado\n",
    "\n",
    "- Sedentário – pouco ou nenhum exercício (TMB x 1.2)\n",
    "\n",
    "- Pouco ativo – exercício/esporte leve 1-3 dias/semana (TMB x 1.375)\n",
    "\n",
    "- Moderadamente ativo – exercício/esporte moderado 3-5 dias/semana (TMB x 1.55)\n",
    "\n",
    "- Muito ativo – exercício/esporte pesado 6-7 dias/semana (TMB x 1.725)\n",
    "\n",
    "- Extremamente ativo – exercício/esporte muito pesado e trabalho físico intenso diariamente ou treino de 2x ao dia (TMB x 1.9)\n",
    "\n",
    "Este cálculo vai te dar um valor estimado das necessidades energéticas diárias de uma pessoa. Contudo, não se esqueça que se trata apenas de uma estimativa e que deve ser usada como um guia e não como uma regra."
   ]
  },
  {
   "cell_type": "code",
   "execution_count": null,
   "id": "e7660367-c44a-400c-afde-884c8928913b",
   "metadata": {},
   "outputs": [],
   "source": [
    "altura = dados[4]\n",
    "peso = dados[2]\n",
    "idade = dados[1]\n",
    "sexo = dados[3]\n",
    "atividade = dados[5]\n",
    "objetivo = dados[6]\n",
    "\n",
    "print(objetivo)"
   ]
  },
  {
   "cell_type": "code",
   "execution_count": null,
   "id": "9475b24d",
   "metadata": {},
   "outputs": [],
   "source": [
    "def tmb(altura, peso, idade, sexo, atividade):\n",
    "    if sexo == \"feminino\":\n",
    "        tmb_1 = 655.1 + (9.6 * peso) + (1.8 * altura) - (4.7 * idade)\n",
    "    else:\n",
    "        tmb_1= 66.5 + (13.7 * peso) + (5 * altura) - (6.8 * idade)\n",
    "        \n",
    "    if atividade == \"sedentário\":\n",
    "        tmb = tmb_1 * 1.2\n",
    "    elif atividade == \"pouco ativo\":\n",
    "        tmb = tmb_1 * 1.375\n",
    "    elif atividade == \"moderadamente ativo\":\n",
    "        tmb = tmb_1 * 1.55\n",
    "    elif atividade == \"muito ativo\":\n",
    "        tmb = tmb_1 * 1.725\n",
    "    else:\n",
    "        tmb = tmb_1 * 1.9\n",
    "        \n",
    "    if objetivo.lower() == \"manter a massa\":\n",
    "        \n",
    "        tmb_final = tmb\n",
    "        \n",
    "    elif objetivo.lower() == \"perder a massa\":\n",
    "        \n",
    "        tmb_final = tmb - 500\n",
    "        \n",
    "    else:\n",
    "        \n",
    "        tmb_final = tmb + 500\n",
    "        \n",
    "    return tmb_final\n",
    "\n",
    "print(tmb)\n",
    "\n",
    "print(tmb_func(altura,peso,idade,sexo, atividade, objetivo))"
   ]
  },
  {
   "cell_type": "markdown",
   "id": "4ca91478-ba0c-4112-9936-6ca42a70a359",
   "metadata": {},
   "source": [
    "### Referências:\n",
    "\n",
    "[1] https://www.omnicalculator.com/health/bmr-harris-benedict-equation\n",
    "\n",
    "[2] https://en.wikipedia.org/wiki/Harris%E2%80%93Benedict_equation\n",
    "\n",
    "[3] https://www.ncbi.nlm.nih.gov/pmc/articles/PMC5074671/\n",
    "\n",
    "[4] https://www.sanarmed.com/equacao-de-harris-benedict-colunistas"
   ]
  },
  {
   "cell_type": "code",
   "execution_count": null,
   "id": "33438a8b-d7d1-4c4f-8c74-f02e9b15ce03",
   "metadata": {},
   "outputs": [],
   "source": []
  }
 ],
 "metadata": {
  "kernelspec": {
   "display_name": "ilumpy",
   "language": "python",
   "name": "ilumpy"
  },
  "language_info": {
   "codemirror_mode": {
    "name": "ipython",
    "version": 3
   },
   "file_extension": ".py",
   "mimetype": "text/x-python",
   "name": "python",
   "nbconvert_exporter": "python",
   "pygments_lexer": "ipython3",
   "version": "3.9.13"
  }
 },
 "nbformat": 4,
 "nbformat_minor": 5
}
