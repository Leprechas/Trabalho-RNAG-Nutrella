{
 "cells": [
  {
   "cell_type": "code",
   "execution_count": 1,
   "id": "c03b2a63-4b47-4141-b10d-62e81c7bc969",
   "metadata": {},
   "outputs": [],
   "source": [
    "import pandas as pd\n",
    "import numpy as np\n",
    "import matplotlib.pyplot as plt"
   ]
  },
  {
   "cell_type": "markdown",
   "id": "a2c0bdec",
   "metadata": {},
   "source": [
    "#### Obtendo informações do usuário:"
   ]
  },
  {
   "cell_type": "code",
   "execution_count": 2,
   "id": "aa8e5637",
   "metadata": {},
   "outputs": [],
   "source": [
    "def informacoes_da_pessoa():\n",
    "\n",
    "    advertencia = [\"Digite uma resposta válida\"]\n",
    "    dados = []\n",
    "\n",
    "    print(\"Qual é o seu nome?\")\n",
    "    nome = input()\n",
    "    dados.append(nome)\n",
    "\n",
    "    print(\"Qual a sua idade?\")\n",
    "    idade_str = input()\n",
    "    idade = float(idade_str)\n",
    "    if idade in range(18,120):\n",
    "        dados.append(idade) \n",
    "    else:\n",
    "        print(advertencia)\n",
    "        idade = input()\n",
    "\n",
    "    print(\"Qual o seu peso?\")\n",
    "    peso_str = input()\n",
    "    peso = float(peso_str)\n",
    "    dados.append(peso)\n",
    "\n",
    "    print(\"Qual é o seu sexo?\")\n",
    "    sexo = input()\n",
    "    while sexo.lower() not in [\"feminino\",\"masculino\"]:\n",
    "        print(advertencia)\n",
    "        sexo = input()\n",
    "    dados.append(sexo)\n",
    "\n",
    "    print(\"Qual é a sua altura?\")\n",
    "    altura_str = input()\n",
    "    altura = float(altura_str)\n",
    "    dados.append(altura)\n",
    "\n",
    "    return dados"
   ]
  },
  {
   "cell_type": "markdown",
   "id": "bfe93dbb-0c41-46a4-b42e-fe8bdbf33af1",
   "metadata": {},
   "source": [
    "#### Como determinaremos a quantidade de calorias ideais?\n",
    "\n",
    "A equação de Harris-Benedict é uma fórmula que utiliza a altura, peso, idade e sexo de determinado indivíduo para calcular a sua taxa metabólica basal(TMB)\n",
    "\n",
    "**1º Passo:**\n",
    "Determinar a taxa metabólica basal (TMB)\n",
    "\n",
    "Homens: TMB = 66 + (13.7 x peso em quilogramas) + (5 x altura em centímetros) – (6.8 x idade em anos)\n",
    "\n",
    "Mulheres: TMB = 655 + (9.6 X peso em quilogramas) + (1.8 X altura em centímetros) – (4.7 x idade em anos).\n",
    "\n",
    "**2º Passo:**\n",
    "Multiplicar o valor da TMB pelo fator de atividade física adequado\n",
    "\n",
    "- Sedentário – pouco ou nenhum exercício (TMB x 1.2)\n",
    "\n",
    "- Pouco ativo – exercício/esporte leve 1-3 dias/semana (TMB x 1.375)\n",
    "\n",
    "- Moderadamente ativo – exercício/esporte moderado 3-5 dias/semana (TMB x 1.55)\n",
    "\n",
    "- Muito ativo – exercício/esporte pesado 6-7 dias/semana (TMB x 1.725)\n",
    "\n",
    "- Extremamente ativo – exercício/esporte muito pesado e trabalho físico intenso diariamente ou treino de 2x ao dia (TMB x 1.9)\n",
    "\n",
    "Este cálculo vai te dar um valor estimado das necessidades energéticas diárias de uma pessoa. Contudo, não se esqueça que se trata apenas de uma estimativa e que deve ser usada como um guia e não como uma regra."
   ]
  },
  {
   "cell_type": "markdown",
   "id": "94caa5df",
   "metadata": {},
   "source": []
  },
  {
   "cell_type": "code",
   "execution_count": null,
   "id": "9475b24d",
   "metadata": {},
   "outputs": [],
   "source": []
  }
 ],
 "metadata": {
  "kernelspec": {
   "display_name": "ilumpy",
   "language": "python",
   "name": "ilumpy"
  },
  "language_info": {
   "codemirror_mode": {
    "name": "ipython",
    "version": 3
   },
   "file_extension": ".py",
   "mimetype": "text/x-python",
   "name": "python",
   "nbconvert_exporter": "python",
   "pygments_lexer": "ipython3",
   "version": "3.9.7"
  }
 },
 "nbformat": 4,
 "nbformat_minor": 5
}
